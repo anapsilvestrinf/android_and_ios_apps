{
 "cells": [
  {
   "cell_type": "markdown",
   "metadata": {},
   "source": [
    "# Profitable App Profiles for the App Store and Google Play Markets \n",
    "This project is an analysis of apps from Google Play and App Store that are free to download and install.\n",
    "\n",
    "Our goal is to understand what type of apps attract more users while the number of users determines the revenue of any of those apps as the main source of revenue consists of in-app ads."
   ]
  },
  {
   "cell_type": "markdown",
   "metadata": {},
   "source": [
    "## Opening and Exploring the data"
   ]
  },
  {
   "cell_type": "markdown",
   "metadata": {},
   "source": [
    "### Opening the two datasets\n",
    "The first one is a dataset with approximately seven thousand apps from Apple Store. It can be found in [this link](https://www.kaggle.com/ramamet4/app-store-apple-data-set-10k-apps).\n",
    "\n",
    "The second one is a dataset with approximately ten thousand apps from Google Play. It can be found in [this link](https://www.kaggle.com/lava18/google-play-store-apps).\n"
   ]
  },
  {
   "cell_type": "code",
   "execution_count": 1,
   "metadata": {},
   "outputs": [],
   "source": [
    "import csv\n",
    "with open('AppleStore.csv', 'r') as apple_file:\n",
    "    apple_read = csv.reader(apple_file)\n",
    "    ios = list(apple_read)\n",
    "    ios_header = ios[0]\n",
    "    ios = ios[1:]\n",
    "    \n",
    "with open('googleplaystore.csv', 'r') as google_file:\n",
    "    google_read = csv.reader(google_file)\n",
    "    android = list(google_read)\n",
    "    android_header = android[0]\n",
    "    android = android[1:]"
   ]
  },
  {
   "cell_type": "markdown",
   "metadata": {},
   "source": [
    "### Exploring the data"
   ]
  },
  {
   "cell_type": "code",
   "execution_count": 2,
   "metadata": {},
   "outputs": [],
   "source": [
    "def explore_data(dataset, start, end, rows_and_columns = False):\n",
    "    dataset_slice = dataset[start:end]\n",
    "    for row in dataset_slice:\n",
    "        print(row)\n",
    "        print('\\n')\n",
    "    if rows_and_columns:\n",
    "        print(\"Number of rows:\", len(dataset))\n",
    "        print(\"Number of columns:\", len(dataset[0]))"
   ]
  },
  {
   "cell_type": "code",
   "execution_count": 3,
   "metadata": {},
   "outputs": [
    {
     "name": "stdout",
     "output_type": "stream",
     "text": [
      "-------------------- iOS table --------------------\n",
      "['id', 'track_name', 'size_bytes', 'currency', 'price', 'rating_count_tot', 'rating_count_ver', 'user_rating', 'user_rating_ver', 'ver', 'cont_rating', 'prime_genre', 'sup_devices.num', 'ipadSc_urls.num', 'lang.num', 'vpp_lic'] \n",
      "\n",
      "['284882215', 'Facebook', '389879808', 'USD', '0.0', '2974676', '212', '3.5', '3.5', '95.0', '4+', 'Social Networking', '37', '1', '29', '1']\n",
      "\n",
      "\n",
      "['389801252', 'Instagram', '113954816', 'USD', '0.0', '2161558', '1289', '4.5', '4.0', '10.23', '12+', 'Photo & Video', '37', '0', '29', '1']\n",
      "\n",
      "\n",
      "['529479190', 'Clash of Clans', '116476928', 'USD', '0.0', '2130805', '579', '4.5', '4.5', '9.24.12', '9+', 'Games', '38', '5', '18', '1']\n",
      "\n",
      "\n",
      "Number of rows: 7197\n",
      "Number of columns: 16\n",
      "None\n",
      "-------------------- Android table --------------------\n",
      "['App', 'Category', 'Rating', 'Reviews', 'Size', 'Installs', 'Type', 'Price', 'Content Rating', 'Genres', 'Last Updated', 'Current Ver', 'Android Ver'] \n",
      "\n",
      "['Photo Editor & Candy Camera & Grid & ScrapBook', 'ART_AND_DESIGN', '4.1', '159', '19M', '10,000+', 'Free', '0', 'Everyone', 'Art & Design', 'January 7, 2018', '1.0.0', '4.0.3 and up']\n",
      "\n",
      "\n",
      "['Coloring book moana', 'ART_AND_DESIGN', '3.9', '967', '14M', '500,000+', 'Free', '0', 'Everyone', 'Art & Design;Pretend Play', 'January 15, 2018', '2.0.0', '4.0.3 and up']\n",
      "\n",
      "\n",
      "['U Launcher Lite – FREE Live Cool Themes, Hide Apps', 'ART_AND_DESIGN', '4.7', '87510', '8.7M', '5,000,000+', 'Free', '0', 'Everyone', 'Art & Design', 'August 1, 2018', '1.2.4', '4.0.3 and up']\n",
      "\n",
      "\n",
      "Number of rows: 10841\n",
      "Number of columns: 13\n",
      "None\n"
     ]
    }
   ],
   "source": [
    "print(20*'-', 'iOS table', 20*'-')\n",
    "print(ios_header, '\\n')\n",
    "print(explore_data(ios, 0, 3, True))\n",
    "print(20*'-', 'Android table', 20*'-')\n",
    "print(android_header, '\\n')\n",
    "print(explore_data(android, 0, 3, True))"
   ]
  },
  {
   "cell_type": "markdown",
   "metadata": {},
   "source": [
    "For our analysis, columns that could help are 'track_name', 'currency', 'price', 'rating_count_tot', 'rating_count_ver', 'cont_rating' and 'prime_genre' in iOs table. Description of the column names can be found in the link of the database.\n",
    "\n",
    "In Android table, columns that could help are 'App', 'Category', 'Reviews', 'Installs', 'Type', 'Price' and 'Genres'."
   ]
  },
  {
   "cell_type": "markdown",
   "metadata": {},
   "source": [
    "## Deleting wrong data"
   ]
  },
  {
   "cell_type": "markdown",
   "metadata": {},
   "source": [
    "The Google Play Store Apps data set has a discussion section and one of the discussions indicates that one column data is missing in the row 10472."
   ]
  },
  {
   "cell_type": "code",
   "execution_count": 4,
   "metadata": {},
   "outputs": [
    {
     "name": "stdout",
     "output_type": "stream",
     "text": [
      "['Photo Editor & Candy Camera & Grid & ScrapBook', 'ART_AND_DESIGN', '4.1', '159', '19M', '10,000+', 'Free', '0', 'Everyone', 'Art & Design', 'January 7, 2018', '1.0.0', '4.0.3 and up'] \n",
      "Number of columns: 13\n",
      "['Life Made WI-Fi Touchscreen Photo Frame', '1.9', '19', '3.0M', '1,000+', 'Free', '0', 'Everyone', '', 'February 11, 2018', '1.0.19', '4.0 and up'] \n",
      "Number of columns: 12\n"
     ]
    }
   ],
   "source": [
    "print(android[0], '\\nNumber of columns:', len(android[0]))\n",
    "print(android[10472], '\\nNumber of columns:', len(android[10472]))"
   ]
  },
  {
   "cell_type": "markdown",
   "metadata": {},
   "source": [
    "We can see that the number of columns are different and, in order to solve this problem, we will delete this row."
   ]
  },
  {
   "cell_type": "code",
   "execution_count": 5,
   "metadata": {},
   "outputs": [
    {
     "name": "stdout",
     "output_type": "stream",
     "text": [
      "10841\n",
      "10840\n"
     ]
    }
   ],
   "source": [
    "print(len(android))\n",
    "del android[10472]\n",
    "print(len(android))"
   ]
  },
  {
   "cell_type": "markdown",
   "metadata": {},
   "source": [
    "We can see if there is another row like the one we deleted in both datasets."
   ]
  },
  {
   "cell_type": "code",
   "execution_count": 6,
   "metadata": {},
   "outputs": [],
   "source": [
    "for row in range(len(android)):\n",
    "    n_col_header = len(android_header)\n",
    "    n_col_table = len(android[row])\n",
    "    if n_col_header != n_col_table:\n",
    "        print('row: ', row, '\\n')\n",
    "        print(android[row])\n",
    "\n",
    "for row in range(len(ios)):\n",
    "    n_col_header = len(ios_header)\n",
    "    n_col_table = len(ios[row])\n",
    "    if n_col_header != n_col_table:\n",
    "        print('row: ', row, '\\n')\n",
    "        print(ios[row])"
   ]
  },
  {
   "cell_type": "markdown",
   "metadata": {},
   "source": [
    "## Removing Duplicate Entries"
   ]
  },
  {
   "cell_type": "markdown",
   "metadata": {},
   "source": [
    "Another discussion of the data set is about duplicate entries. For example, the application instragram in the android data set:"
   ]
  },
  {
   "cell_type": "code",
   "execution_count": 7,
   "metadata": {},
   "outputs": [
    {
     "name": "stdout",
     "output_type": "stream",
     "text": [
      "['Instagram', 'SOCIAL', '4.5', '66577313', 'Varies with device', '1,000,000,000+', 'Free', '0', 'Teen', 'Social', 'July 31, 2018', 'Varies with device', 'Varies with device']\n",
      "['Instagram', 'SOCIAL', '4.5', '66577446', 'Varies with device', '1,000,000,000+', 'Free', '0', 'Teen', 'Social', 'July 31, 2018', 'Varies with device', 'Varies with device']\n",
      "['Instagram', 'SOCIAL', '4.5', '66577313', 'Varies with device', '1,000,000,000+', 'Free', '0', 'Teen', 'Social', 'July 31, 2018', 'Varies with device', 'Varies with device']\n",
      "['Instagram', 'SOCIAL', '4.5', '66509917', 'Varies with device', '1,000,000,000+', 'Free', '0', 'Teen', 'Social', 'July 31, 2018', 'Varies with device', 'Varies with device']\n"
     ]
    }
   ],
   "source": [
    "for row in android:\n",
    "    if row[0] == 'Instagram':\n",
    "        print(row)"
   ]
  },
  {
   "cell_type": "markdown",
   "metadata": {},
   "source": [
    "And the app Mannequin Challenge in the ios data set:"
   ]
  },
  {
   "cell_type": "code",
   "execution_count": 8,
   "metadata": {},
   "outputs": [
    {
     "name": "stdout",
     "output_type": "stream",
     "text": [
      "['1173990889', 'Mannequin Challenge', '109705216', 'USD', '0.0', '668', '87', '3.0', '3.0', '1.4', '9+', 'Games', '37', '4', '1', '1']\n",
      "['1178454060', 'Mannequin Challenge', '59572224', 'USD', '0.0', '105', '58', '4.0', '4.5', '1.0.1', '4+', 'Games', '38', '5', '1', '1']\n"
     ]
    }
   ],
   "source": [
    "for row in ios:\n",
    "    if row[1] == 'Mannequin Challenge':\n",
    "        print(row)"
   ]
  },
  {
   "cell_type": "code",
   "execution_count": 9,
   "metadata": {},
   "outputs": [
    {
     "name": "stdout",
     "output_type": "stream",
     "text": [
      "Number of android duplicate apps: 1181\n"
     ]
    }
   ],
   "source": [
    "app_duplicate_android = []\n",
    "app_unique_android = []\n",
    "for row in android:\n",
    "    if row[0] in app_unique_android:\n",
    "        app_duplicate_android.append(row[0])\n",
    "    else:\n",
    "        app_unique_android.append(row[0])\n",
    "\n",
    "print(\"Number of android duplicate apps:\", len(app_duplicate_android))"
   ]
  },
  {
   "cell_type": "code",
   "execution_count": 10,
   "metadata": {},
   "outputs": [
    {
     "name": "stdout",
     "output_type": "stream",
     "text": [
      "Number of ios duplicate apps: 2\n"
     ]
    }
   ],
   "source": [
    "app_duplicate_ios = []\n",
    "app_unique_ios = []\n",
    "for row in ios:\n",
    "    if row[1] in app_unique_ios:\n",
    "        app_duplicate_ios.append(row[1])\n",
    "    else:\n",
    "        app_unique_ios.append(row[1])\n",
    "\n",
    "print(\"Number of ios duplicate apps:\", len(app_duplicate_ios))"
   ]
  },
  {
   "cell_type": "markdown",
   "metadata": {},
   "source": [
    "We want to remove these duplicate entries, but not randomly because we can see in the Instagram example that the values in the fourth column (number of users reviews for the app) are different. \n",
    "These different numbers show the data was collected at different times. Therefore we will keep the row with the highest number of reviews since it should be the more recent data."
   ]
  },
  {
   "cell_type": "markdown",
   "metadata": {},
   "source": [
    "To do that:\n",
    "* We will create a dictionary with the name of each app as a key and its highest number of reviews as value.\n",
    "* We will create a new data set with only the rows with the highest number of reviews."
   ]
  },
  {
   "cell_type": "code",
   "execution_count": 11,
   "metadata": {},
   "outputs": [
    {
     "data": {
      "text/plain": [
       "str"
      ]
     },
     "execution_count": 11,
     "metadata": {},
     "output_type": "execute_result"
    }
   ],
   "source": [
    "type(android[0][3])"
   ]
  },
  {
   "cell_type": "code",
   "execution_count": 12,
   "metadata": {},
   "outputs": [
    {
     "name": "stdout",
     "output_type": "stream",
     "text": [
      "Expected number of entries:  9659 \n",
      "\n",
      "Number of entries in the dictionary:  9659\n"
     ]
    }
   ],
   "source": [
    "reviews_max_android = {}\n",
    "\n",
    "for row in android:\n",
    "    name = row[0]\n",
    "    n_reviews = float(row[3])\n",
    "    if name in reviews_max_android and reviews_max_android[name] < n_reviews:\n",
    "        reviews_max_android[name] = n_reviews\n",
    "    elif name not in reviews_max_android:\n",
    "        reviews_max_android[name] = n_reviews\n",
    "\n",
    "print(\"Expected number of entries: \", len(android) - len(app_duplicate_android), '\\n')\n",
    "print(\"Number of entries in the dictionary: \", len(reviews_max_android))"
   ]
  },
  {
   "cell_type": "code",
   "execution_count": 13,
   "metadata": {},
   "outputs": [
    {
     "name": "stdout",
     "output_type": "stream",
     "text": [
      "Expected number of entries:  7195 \n",
      "\n",
      "Number of entries in the dictionary:  7195\n"
     ]
    }
   ],
   "source": [
    "rating_max_ios = {}\n",
    "\n",
    "for row in ios:\n",
    "    name = row[1]\n",
    "    n_rating = float(row[5])\n",
    "    if name in rating_max_ios and rating_max_ios[name] < n_rating:\n",
    "        rating_max_ios[name] = n_rating\n",
    "    elif name not in rating_max_ios:\n",
    "        rating_max_ios[name] = n_rating\n",
    "\n",
    "print(\"Expected number of entries: \", len(ios) - len(app_duplicate_ios), '\\n')\n",
    "print(\"Number of entries in the dictionary: \", len(rating_max_ios))"
   ]
  },
  {
   "cell_type": "code",
   "execution_count": 14,
   "metadata": {},
   "outputs": [
    {
     "name": "stdout",
     "output_type": "stream",
     "text": [
      "Number of entries in the new data set:  9659\n"
     ]
    }
   ],
   "source": [
    "android_clean = []\n",
    "already_added = []\n",
    "\n",
    "for row in android:\n",
    "    name = row[0]\n",
    "    n_reviews = float(row[3])\n",
    "    if n_reviews == reviews_max_android[name] and name not in already_added:\n",
    "        android_clean.append(row)\n",
    "        already_added.append(name)\n",
    "\n",
    "print(\"Number of entries in the new data set: \", len(android_clean))\n"
   ]
  },
  {
   "cell_type": "markdown",
   "metadata": {},
   "source": [
    "## Removing non-english apps"
   ]
  },
  {
   "cell_type": "markdown",
   "metadata": {},
   "source": [
    "If we explore the data, we will find that the datasets have apps with names for not only an English-speaking audience."
   ]
  },
  {
   "cell_type": "code",
   "execution_count": 15,
   "metadata": {},
   "outputs": [
    {
     "name": "stdout",
     "output_type": "stream",
     "text": [
      "爱奇艺PPS -《欢乐颂2》电视剧热播\n",
      "中国語 AQリスニング\n"
     ]
    }
   ],
   "source": [
    "print(ios[813][1])\n",
    "print(android_clean[4412][0])"
   ]
  },
  {
   "cell_type": "markdown",
   "metadata": {},
   "source": [
    "And as we would like to analyze only apps for an English-speaking audience, we will remove them."
   ]
  },
  {
   "cell_type": "markdown",
   "metadata": {},
   "source": [
    "We built this function below to find out if there is only letters from the English alphabet in text. \n",
    "The only problem is that emojis and other symbols aren't considered an English text in this function."
   ]
  },
  {
   "cell_type": "code",
   "execution_count": 16,
   "metadata": {},
   "outputs": [
    {
     "name": "stdout",
     "output_type": "stream",
     "text": [
      "True\n",
      "False\n",
      "False\n",
      "False\n"
     ]
    }
   ],
   "source": [
    "def is_english(string):\n",
    "    for letter in string:\n",
    "        if ord(letter) > 127:\n",
    "            return False\n",
    "    return True\n",
    "\n",
    "print(is_english('Instagram'))\n",
    "print(is_english('爱奇艺PPS -《欢乐颂2》电视剧热播'))\n",
    "print(is_english('Docs To Go™ Free Office Suite'))\n",
    "print(is_english('Instachat 😜'))"
   ]
  },
  {
   "cell_type": "markdown",
   "metadata": {},
   "source": [
    "To minimize the impact of data loss, we'll only remove an app if its name has more than three non-ASCII characters:"
   ]
  },
  {
   "cell_type": "code",
   "execution_count": 17,
   "metadata": {},
   "outputs": [
    {
     "name": "stdout",
     "output_type": "stream",
     "text": [
      "True\n",
      "False\n",
      "True\n",
      "True\n"
     ]
    }
   ],
   "source": [
    "def is_english(string):\n",
    "    non_ascii = 0 \n",
    "    for letter in string:\n",
    "        if ord(letter) > 127:\n",
    "            non_ascii += 1\n",
    "    return False if non_ascii > 3 else True\n",
    "print(is_english('Instagram'))\n",
    "print(is_english('爱奇艺PPS -《欢乐颂2》电视剧热播'))\n",
    "print(is_english('Docs To Go™ Free Office Suite'))\n",
    "print(is_english('Instachat 😜'))"
   ]
  },
  {
   "cell_type": "markdown",
   "metadata": {},
   "source": [
    "Below, we use the function to filter the non-English apps from the data sets:"
   ]
  },
  {
   "cell_type": "code",
   "execution_count": 18,
   "metadata": {},
   "outputs": [
    {
     "name": "stdout",
     "output_type": "stream",
     "text": [
      "['Photo Editor & Candy Camera & Grid & ScrapBook', 'ART_AND_DESIGN', '4.1', '159', '19M', '10,000+', 'Free', '0', 'Everyone', 'Art & Design', 'January 7, 2018', '1.0.0', '4.0.3 and up']\n",
      "\n",
      "\n",
      "['U Launcher Lite – FREE Live Cool Themes, Hide Apps', 'ART_AND_DESIGN', '4.7', '87510', '8.7M', '5,000,000+', 'Free', '0', 'Everyone', 'Art & Design', 'August 1, 2018', '1.2.4', '4.0.3 and up']\n",
      "\n",
      "\n",
      "['Sketch - Draw & Paint', 'ART_AND_DESIGN', '4.5', '215644', '25M', '50,000,000+', 'Free', '0', 'Teen', 'Art & Design', 'June 8, 2018', 'Varies with device', '4.2 and up']\n",
      "\n",
      "\n",
      "Number of rows: 9614\n",
      "Number of columns: 13\n",
      "--------------------------------------------------\n",
      "['284882215', 'Facebook', '389879808', 'USD', '0.0', '2974676', '212', '3.5', '3.5', '95.0', '4+', 'Social Networking', '37', '1', '29', '1']\n",
      "\n",
      "\n",
      "['389801252', 'Instagram', '113954816', 'USD', '0.0', '2161558', '1289', '4.5', '4.0', '10.23', '12+', 'Photo & Video', '37', '0', '29', '1']\n",
      "\n",
      "\n",
      "['529479190', 'Clash of Clans', '116476928', 'USD', '0.0', '2130805', '579', '4.5', '4.5', '9.24.12', '9+', 'Games', '38', '5', '18', '1']\n",
      "\n",
      "\n",
      "Number of rows: 6183\n",
      "Number of columns: 16\n"
     ]
    }
   ],
   "source": [
    "english_android = []\n",
    "english_ios = []\n",
    "\n",
    "for row in android_clean:\n",
    "    name = row[0]\n",
    "    if is_english(name):\n",
    "        english_android.append(row)\n",
    "\n",
    "for row in ios:\n",
    "    name = row[1]\n",
    "    if is_english(name):\n",
    "        english_ios.append(row)\n",
    "    \n",
    "explore_data(english_android, 0, 3, True)\n",
    "print(50 * ('-'))\n",
    "explore_data(english_ios, 0, 3, True)"
   ]
  },
  {
   "cell_type": "markdown",
   "metadata": {},
   "source": [
    "## Isolating the free apps"
   ]
  },
  {
   "cell_type": "markdown",
   "metadata": {},
   "source": [
    "As we mentioned in the introduction, we only build apps that are free to download and install. Our data sets contain both free and non-free apps, and we'll need to isolate only the free apps for our analysis. "
   ]
  },
  {
   "cell_type": "code",
   "execution_count": 19,
   "metadata": {},
   "outputs": [
    {
     "name": "stdout",
     "output_type": "stream",
     "text": [
      "Remaining free android apps:  8864\n",
      "Remaining free ios apps:  3222\n"
     ]
    }
   ],
   "source": [
    "free_android = []\n",
    "free_ios = []\n",
    "\n",
    "for row in english_android:\n",
    "    if row[7] == '0':\n",
    "        free_android.append(row)\n",
    "\n",
    "for row in english_ios:\n",
    "    if row[4] == '0.0':\n",
    "        free_ios.append(row)\n",
    "        \n",
    "print('Remaining free android apps: ', len(free_android))\n",
    "print('Remaining free ios apps: ',len(free_ios))"
   ]
  },
  {
   "cell_type": "markdown",
   "metadata": {},
   "source": [
    "## Most common apps by genre"
   ]
  },
  {
   "cell_type": "markdown",
   "metadata": {},
   "source": [
    "As we mentioned in the introduction, our aim is to determine the kinds of apps that are likely to attract more users because our revenue is highly influenced by the number of people using our apps. We need to find app profiles that are successful on both markets, Google Play and App Store.\n",
    "\n",
    "Let's begin the analysis by getting a sense of what are the most common genres for each market. For this, we'll need to build frequency tables for a few columns in our datasets.\n",
    "\n",
    "We'll build two functions we can use to analyze the frequency tables:\n",
    "\n",
    "* One function to generate frequency tables that show percentages\n",
    "* Another function we can use to display the percentages in a descending order"
   ]
  },
  {
   "cell_type": "code",
   "execution_count": 20,
   "metadata": {},
   "outputs": [],
   "source": [
    "# index is the index of the column\n",
    "def freq_table(dataset, index):\n",
    "    freq = {}\n",
    "    total = 0\n",
    "    for row in dataset:\n",
    "        genre = row[index]\n",
    "        total += 1\n",
    "        if genre not in freq:\n",
    "            freq[genre] = 1\n",
    "        else:\n",
    "            freq[genre] += 1\n",
    "    table_percentage = {}\n",
    "    for key in freq:\n",
    "        table_percentage[key] = freq[key] / total * 100\n",
    "        \n",
    "    return table_percentage"
   ]
  },
  {
   "cell_type": "code",
   "execution_count": 21,
   "metadata": {},
   "outputs": [],
   "source": [
    "def display_table(dataset, index):\n",
    "    table = freq_table(dataset, index)\n",
    "    table_display = []\n",
    "    for val_key_tuple in zip(table.values(), table.keys()):\n",
    "        table_display.append(val_key_tuple)\n",
    "    \n",
    "    table_sorted = sorted(table_display, reverse = True)\n",
    "    for tup in table_sorted:\n",
    "        print(f\"{tup[1]:19}: {tup[0]}\")"
   ]
  },
  {
   "cell_type": "code",
   "execution_count": 22,
   "metadata": {},
   "outputs": [
    {
     "name": "stdout",
     "output_type": "stream",
     "text": [
      "FAMILY             : 18.907942238267147\n",
      "GAME               : 9.724729241877256\n",
      "TOOLS              : 8.461191335740072\n",
      "BUSINESS           : 4.591606498194946\n",
      "LIFESTYLE          : 3.9034296028880866\n",
      "PRODUCTIVITY       : 3.892148014440433\n",
      "FINANCE            : 3.7003610108303246\n",
      "MEDICAL            : 3.531137184115524\n",
      "SPORTS             : 3.395758122743682\n",
      "PERSONALIZATION    : 3.3167870036101084\n",
      "COMMUNICATION      : 3.2378158844765346\n",
      "HEALTH_AND_FITNESS : 3.0798736462093865\n",
      "PHOTOGRAPHY        : 2.944494584837545\n",
      "NEWS_AND_MAGAZINES : 2.7978339350180503\n",
      "SOCIAL             : 2.6624548736462095\n",
      "TRAVEL_AND_LOCAL   : 2.33528880866426\n",
      "SHOPPING           : 2.2450361010830324\n",
      "BOOKS_AND_REFERENCE: 2.1435018050541514\n",
      "DATING             : 1.861462093862816\n",
      "VIDEO_PLAYERS      : 1.7937725631768955\n",
      "MAPS_AND_NAVIGATION: 1.3989169675090252\n",
      "FOOD_AND_DRINK     : 1.2409747292418771\n",
      "EDUCATION          : 1.1620036101083033\n",
      "ENTERTAINMENT      : 0.9589350180505415\n",
      "LIBRARIES_AND_DEMO : 0.9363718411552346\n",
      "AUTO_AND_VEHICLES  : 0.9250902527075812\n",
      "HOUSE_AND_HOME     : 0.8235559566787004\n",
      "WEATHER            : 0.8009927797833934\n",
      "EVENTS             : 0.7107400722021661\n",
      "PARENTING          : 0.6543321299638989\n",
      "ART_AND_DESIGN     : 0.6430505415162455\n",
      "COMICS             : 0.6204873646209386\n",
      "BEAUTY             : 0.5979241877256317\n"
     ]
    }
   ],
   "source": [
    "display_table(free_android, 1) #category"
   ]
  },
  {
   "cell_type": "markdown",
   "metadata": {},
   "source": [
    "There are not that many apps designed for fun, and it seems that a good number of free English apps are designed for practical purposes (family, tools, business, lifestyle, productivity, etc.). However, we can see that the family category means mostly games for kids."
   ]
  },
  {
   "cell_type": "code",
   "execution_count": 23,
   "metadata": {},
   "outputs": [
    {
     "name": "stdout",
     "output_type": "stream",
     "text": [
      "Tools              : 8.449909747292418\n",
      "Entertainment      : 6.069494584837545\n",
      "Education          : 5.347472924187725\n",
      "Business           : 4.591606498194946\n",
      "Productivity       : 3.892148014440433\n",
      "Lifestyle          : 3.892148014440433\n",
      "Finance            : 3.7003610108303246\n",
      "Medical            : 3.531137184115524\n",
      "Sports             : 3.463447653429603\n",
      "Personalization    : 3.3167870036101084\n",
      "Communication      : 3.2378158844765346\n",
      "Action             : 3.1024368231046933\n",
      "Health & Fitness   : 3.0798736462093865\n",
      "Photography        : 2.944494584837545\n",
      "News & Magazines   : 2.7978339350180503\n",
      "Social             : 2.6624548736462095\n",
      "Travel & Local     : 2.3240072202166067\n",
      "Shopping           : 2.2450361010830324\n",
      "Books & Reference  : 2.1435018050541514\n",
      "Simulation         : 2.0419675090252705\n",
      "Dating             : 1.861462093862816\n",
      "Arcade             : 1.8501805054151623\n",
      "Video Players & Editors: 1.7712093862815883\n",
      "Casual             : 1.7599277978339352\n",
      "Maps & Navigation  : 1.3989169675090252\n",
      "Food & Drink       : 1.2409747292418771\n",
      "Puzzle             : 1.128158844765343\n",
      "Racing             : 0.9927797833935018\n",
      "Role Playing       : 0.9363718411552346\n",
      "Libraries & Demo   : 0.9363718411552346\n",
      "Auto & Vehicles    : 0.9250902527075812\n",
      "Strategy           : 0.9138086642599278\n",
      "House & Home       : 0.8235559566787004\n",
      "Weather            : 0.8009927797833934\n",
      "Events             : 0.7107400722021661\n",
      "Adventure          : 0.6768953068592057\n",
      "Comics             : 0.6092057761732852\n",
      "Beauty             : 0.5979241877256317\n",
      "Art & Design       : 0.5979241877256317\n",
      "Parenting          : 0.4963898916967509\n",
      "Card               : 0.45126353790613716\n",
      "Casino             : 0.42870036101083037\n",
      "Trivia             : 0.41741877256317694\n",
      "Educational;Education: 0.39485559566787\n",
      "Board              : 0.3835740072202166\n",
      "Educational        : 0.3722924187725632\n",
      "Education;Education: 0.33844765342960287\n",
      "Word               : 0.2594765342960289\n",
      "Casual;Pretend Play: 0.236913357400722\n",
      "Music              : 0.2030685920577617\n",
      "Racing;Action & Adventure: 0.16922382671480143\n",
      "Puzzle;Brain Games : 0.16922382671480143\n",
      "Entertainment;Music & Video: 0.16922382671480143\n",
      "Casual;Brain Games : 0.13537906137184114\n",
      "Casual;Action & Adventure: 0.13537906137184114\n",
      "Arcade;Action & Adventure: 0.12409747292418773\n",
      "Action;Action & Adventure: 0.10153429602888085\n",
      "Educational;Pretend Play: 0.09025270758122744\n",
      "Simulation;Action & Adventure: 0.078971119133574\n",
      "Parenting;Education: 0.078971119133574\n",
      "Entertainment;Brain Games: 0.078971119133574\n",
      "Board;Brain Games  : 0.078971119133574\n",
      "Parenting;Music & Video: 0.06768953068592057\n",
      "Educational;Brain Games: 0.06768953068592057\n",
      "Casual;Creativity  : 0.06768953068592057\n",
      "Art & Design;Creativity: 0.06768953068592057\n",
      "Education;Pretend Play: 0.056407942238267145\n",
      "Role Playing;Pretend Play: 0.04512635379061372\n",
      "Education;Creativity: 0.04512635379061372\n",
      "Role Playing;Action & Adventure: 0.033844765342960284\n",
      "Puzzle;Action & Adventure: 0.033844765342960284\n",
      "Entertainment;Creativity: 0.033844765342960284\n",
      "Entertainment;Action & Adventure: 0.033844765342960284\n",
      "Educational;Creativity: 0.033844765342960284\n",
      "Educational;Action & Adventure: 0.033844765342960284\n",
      "Education;Music & Video: 0.033844765342960284\n",
      "Education;Brain Games: 0.033844765342960284\n",
      "Education;Action & Adventure: 0.033844765342960284\n",
      "Adventure;Action & Adventure: 0.033844765342960284\n",
      "Video Players & Editors;Music & Video: 0.02256317689530686\n",
      "Sports;Action & Adventure: 0.02256317689530686\n",
      "Simulation;Pretend Play: 0.02256317689530686\n",
      "Puzzle;Creativity  : 0.02256317689530686\n",
      "Music;Music & Video: 0.02256317689530686\n",
      "Entertainment;Pretend Play: 0.02256317689530686\n",
      "Casual;Education   : 0.02256317689530686\n",
      "Board;Action & Adventure: 0.02256317689530686\n",
      "Video Players & Editors;Creativity: 0.01128158844765343\n",
      "Trivia;Education   : 0.01128158844765343\n",
      "Travel & Local;Action & Adventure: 0.01128158844765343\n",
      "Tools;Education    : 0.01128158844765343\n",
      "Strategy;Education : 0.01128158844765343\n",
      "Strategy;Creativity: 0.01128158844765343\n",
      "Strategy;Action & Adventure: 0.01128158844765343\n",
      "Simulation;Education: 0.01128158844765343\n",
      "Role Playing;Brain Games: 0.01128158844765343\n",
      "Racing;Pretend Play: 0.01128158844765343\n",
      "Puzzle;Education   : 0.01128158844765343\n",
      "Parenting;Brain Games: 0.01128158844765343\n",
      "Music & Audio;Music & Video: 0.01128158844765343\n",
      "Lifestyle;Pretend Play: 0.01128158844765343\n",
      "Lifestyle;Education: 0.01128158844765343\n",
      "Health & Fitness;Education: 0.01128158844765343\n",
      "Health & Fitness;Action & Adventure: 0.01128158844765343\n",
      "Entertainment;Education: 0.01128158844765343\n",
      "Communication;Creativity: 0.01128158844765343\n",
      "Comics;Creativity  : 0.01128158844765343\n",
      "Casual;Music & Video: 0.01128158844765343\n",
      "Card;Action & Adventure: 0.01128158844765343\n",
      "Books & Reference;Education: 0.01128158844765343\n",
      "Art & Design;Pretend Play: 0.01128158844765343\n",
      "Art & Design;Action & Adventure: 0.01128158844765343\n",
      "Arcade;Pretend Play: 0.01128158844765343\n",
      "Adventure;Education: 0.01128158844765343\n"
     ]
    }
   ],
   "source": [
    "display_table(free_android, 9) #genre"
   ]
  },
  {
   "cell_type": "markdown",
   "metadata": {},
   "source": [
    "We can notice that the Genres column has more categories that the category column."
   ]
  },
  {
   "cell_type": "code",
   "execution_count": 24,
   "metadata": {},
   "outputs": [
    {
     "name": "stdout",
     "output_type": "stream",
     "text": [
      "Games              : 58.16263190564867\n",
      "Entertainment      : 7.883302296710118\n",
      "Photo & Video      : 4.9658597144630665\n",
      "Education          : 3.662321539416512\n",
      "Social Networking  : 3.2898820608317814\n",
      "Shopping           : 2.60707635009311\n",
      "Utilities          : 2.5139664804469275\n",
      "Sports             : 2.1415270018621975\n",
      "Music              : 2.0484171322160147\n",
      "Health & Fitness   : 2.0173805090006205\n",
      "Productivity       : 1.7380509000620732\n",
      "Lifestyle          : 1.5828677839851024\n",
      "News               : 1.3345747982619491\n",
      "Travel             : 1.2414649286157666\n",
      "Finance            : 1.1173184357541899\n",
      "Weather            : 0.8690254500310366\n",
      "Food & Drink       : 0.8069522036002483\n",
      "Reference          : 0.5586592178770949\n",
      "Business           : 0.5276225946617008\n",
      "Book               : 0.4345127250155183\n",
      "Navigation         : 0.186219739292365\n",
      "Medical            : 0.186219739292365\n",
      "Catalogs           : 0.12414649286157665\n"
     ]
    }
   ],
   "source": [
    "display_table(free_ios, 11)"
   ]
  },
  {
   "cell_type": "markdown",
   "metadata": {},
   "source": [
    "We can see that among the free English apps, more than a half (58.16%) are games. Entertainment apps are close to 8%, followed by photo and video apps, which are close to 5%. Only 3.66% of the apps are designed for education, followed by social networking apps which amount for 3.29% of the apps in our data set.\n",
    "\n",
    "The impression is that App Store is dominated by apps that are designed for fun in the part containing free English apps. However, the fact that fun apps are the most numerous doesn't also imply that they also have the greatest number of users."
   ]
  },
  {
   "cell_type": "markdown",
   "metadata": {},
   "source": [
    "Up to date, we found that the App Store is dominated by apps designed for fun while Google Play is by practical and for-fun apps. "
   ]
  },
  {
   "cell_type": "markdown",
   "metadata": {},
   "source": [
    "## Most popular apps by genre"
   ]
  },
  {
   "cell_type": "markdown",
   "metadata": {},
   "source": [
    "### On App Store "
   ]
  },
  {
   "cell_type": "markdown",
   "metadata": {},
   "source": [
    "We can calculate the average number of installs for each app genre to find the most popular genres. For the App Store dataset, we will take the total number of user ratings in the rating_count_tot column as a proxy for the number of installs for each app genre."
   ]
  },
  {
   "cell_type": "code",
   "execution_count": 25,
   "metadata": {},
   "outputs": [
    {
     "name": "stdout",
     "output_type": "stream",
     "text": [
      "Social Networking: 71,548.35\n",
      "Photo & Video    : 28,441.54\n",
      "Games            : 22,788.67\n",
      "Music            : 57,326.53\n",
      "Reference        : 74,942.11\n",
      "Health & Fitness : 23,298.02\n",
      "Weather          : 52,279.89\n",
      "Utilities        : 18,684.46\n",
      "Travel           : 28,243.80\n",
      "Shopping         : 26,919.69\n",
      "News             : 21,248.02\n",
      "Navigation       : 86,090.33\n",
      "Lifestyle        : 16,485.76\n",
      "Entertainment    : 14,029.83\n",
      "Food & Drink     : 33,333.92\n",
      "Sports           : 23,008.90\n",
      "Book             : 39,758.50\n",
      "Finance          : 31,467.94\n",
      "Education        : 7,003.98\n",
      "Productivity     : 21,028.41\n",
      "Business         : 7,491.12\n",
      "Catalogs         : 4,004.00\n",
      "Medical          : 612.00\n"
     ]
    }
   ],
   "source": [
    "unique_genres_ios = freq_table(free_ios, 11)\n",
    "\n",
    "for genre in unique_genres_ios:\n",
    "    total = 0\n",
    "    len_genre = 0\n",
    "    for app in free_ios:\n",
    "        app_genre = app[11]\n",
    "        if app_genre == genre:\n",
    "            ratings = app[5]\n",
    "            total += float(ratings)\n",
    "            len_genre += 1\n",
    "    \n",
    "    avg_genre = total / len_genre\n",
    "    print(f\"{genre :17}: {avg_genre:,.2f}\")"
   ]
  },
  {
   "cell_type": "markdown",
   "metadata": {},
   "source": [
    "Navigation apps are the most popular on average influenced by Waze and Google Maps."
   ]
  },
  {
   "cell_type": "code",
   "execution_count": 26,
   "metadata": {},
   "outputs": [
    {
     "name": "stdout",
     "output_type": "stream",
     "text": [
      "Waze - GPS Navigation, Maps & Real-time Traffic   : 345,046\n",
      "Google Maps - Navigation & Transit                : 154,911\n",
      "Geocaching®                                       : 12,811\n",
      "CoPilot GPS – Car Navigation & Offline Maps       : 3,582\n",
      "ImmobilienScout24: Real Estate Search in Germany  : 187\n",
      "Railway Route Search                              : 5\n"
     ]
    }
   ],
   "source": [
    "for app in free_ios:\n",
    "    if app[11] == 'Navigation':\n",
    "        print(f\"{app[1]:50}: {int(app[5]):,}\")"
   ]
  },
  {
   "cell_type": "markdown",
   "metadata": {},
   "source": [
    "Other popular apps by genre are Reference, Social Networking, and Music. These apps are also influenced by giants like Facebook and Pandora."
   ]
  },
  {
   "cell_type": "code",
   "execution_count": 27,
   "metadata": {},
   "outputs": [
    {
     "name": "stdout",
     "output_type": "stream",
     "text": [
      "Facebook                                          : 2,974,676\n",
      "Pandora - Music & Radio                           : 1,126,879\n",
      "Pinterest                                         : 1,061,624\n",
      "Bible                                             : 985,920\n",
      "Spotify Music                                     : 878,563\n",
      "Shazam - Discover music, artists, videos & lyrics : 402,925\n",
      "Skype for iPhone                                  : 373,519\n",
      "Messenger                                         : 351,466\n",
      "Tumblr                                            : 334,293\n",
      "iHeartRadio – Free Music & Radio Stations         : 293,228\n",
      "WhatsApp Messenger                                : 287,589\n",
      "Kik                                               : 260,965\n",
      "Dictionary.com Dictionary & Thesaurus             : 200,047\n",
      "ooVoo – Free Video Call, Text and Voice           : 177,501\n",
      "TextNow - Unlimited Text + Calls                  : 164,963\n",
      "Viber Messenger – Text & Call                     : 164,249\n",
      "SoundCloud - Music & Audio                        : 135,744\n",
      "Magic Piano by Smule                              : 131,695\n",
      "Smule Sing!                                       : 119,316\n",
      "Followers - Social Analytics For Instagram        : 112,778\n",
      "TuneIn Radio - MLB NBA Audiobooks Podcasts Music  : 110,420\n",
      "Amazon Music                                      : 106,235\n",
      "MeetMe - Chat and Meet New People                 : 97,072\n",
      "We Heart It - Fashion, wallpapers, quotes, tattoos: 90,414\n",
      "InsTrack for Instagram - Analytics Plus More      : 85,535\n",
      "SoundHound Song Search & Music Player             : 82,602\n",
      "Tango - Free Video Call, Voice and Chat           : 75,412\n",
      "LinkedIn                                          : 71,856\n",
      "Match™ - #1 Dating App.                           : 60,659\n",
      "Skype for iPad                                    : 60,163\n",
      "Dictionary.com Dictionary & Thesaurus for iPad    : 54,175\n",
      "POF - Best Dating App for Conversations           : 52,642\n",
      "Timehop                                           : 49,510\n",
      "Sonos Controller                                  : 48,905\n",
      "Find My Family, Friends & iPhone - Life360 Locator: 43,877\n",
      "Whisper - Share, Express, Meet                    : 39,819\n",
      "Hangouts                                          : 36,404\n",
      "LINE PLAY - Your Avatar World                     : 34,677\n",
      "WeChat                                            : 34,584\n",
      "Badoo - Meet New People, Chat, Socialize.         : 34,428\n",
      "Bandsintown Concerts                              : 30,845\n",
      "Followers + for Instagram - Follower Analytics    : 28,633\n",
      "Karaoke - Sing Karaoke, Unlimited Songs!          : 28,606\n",
      "GroupMe                                           : 28,260\n",
      "Marco Polo Video Walkie Talkie                    : 27,662\n",
      "Google Translate                                  : 26,786\n",
      "My Mixtapez Music                                 : 26,286\n",
      "Sing Karaoke Songs Unlimited with StarMaker       : 26,227\n",
      "Ringtones for iPhone & Ringtone Maker             : 25,403\n",
      "Musi - Unlimited Music For YouTube                : 25,193\n",
      "Miitomo                                           : 23,965\n",
      "SimSimi                                           : 23,530\n",
      "Grindr - Gay and same sex guys chat, meet and date: 23,201\n",
      "Wishbone - Compare Anything                       : 20,649\n",
      "imo video calls and chat                          : 18,841\n",
      "After School - Funny Anonymous School News        : 18,482\n",
      "Muslim Pro: Ramadan 2017 Prayer Times, Azan, Quran: 18,418\n",
      "AutoRap by Smule                                  : 18,202\n",
      "Quick Reposter - Repost, Regram and Reshare Photos: 17,694\n",
      "New Furniture Mods - Pocket Wiki & Game Tools for Minecraft PC Edition: 17,588\n",
      "Merriam-Webster Dictionary                        : 16,849\n",
      "Weibo HD                                          : 16,772\n",
      "Repost for Instagram                              : 15,185\n",
      "Spinrilla - Mixtapes For Free                     : 15,053\n",
      "Live.me – Live Video Chat & Make Friends Nearby   : 14,724\n",
      "Nextdoor                                          : 14,402\n",
      "Napster - Top Music & Radio                       : 14,268\n",
      "Followers Analytics for Instagram - InstaReport   : 13,914\n",
      "edjing Mix:DJ turntable to remix and scratch music: 13,580\n",
      "Free Music - MP3 Streamer & Playlist Manager Pro  : 13,443\n",
      "Free Piano app by Yokee                           : 13,016\n",
      "Night Sky                                         : 12,122\n",
      "YouNow: Live Stream Video Chat                    : 12,079\n",
      "FollowMeter for Instagram - Followers Tracking    : 11,976\n",
      "LINE                                              : 11,437\n",
      "eHarmony™ Dating App - Meet Singles               : 11,124\n",
      "Google Play Music                                 : 10,118\n",
      "Certified Mixtapes - Hip Hop Albums & Mixtapes    : 9,975\n",
      "Discord - Chat for Gamers                         : 9,152\n",
      "QQ                                                : 9,109\n",
      "City Maps for Minecraft PE - The Best Maps for Minecraft Pocket Edition (MCPE): 8,535\n",
      "Telegram Messenger                                : 7,573\n",
      "TIDAL                                             : 7,398\n",
      "Weibo                                             : 7,265\n",
      "YouTube Music                                     : 7,109\n",
      "Periscope - Live Video Streaming Around the World : 6,062\n",
      "Nicki Minaj: The Empire                           : 5,196\n",
      "Sounds app - Music And Friends                    : 5,126\n",
      "Chat for Whatsapp - iPad Version                  : 5,060\n",
      "QQ HD                                             : 5,058\n",
      "SongFlip - Free Music Streamer                    : 5,004\n",
      "Simple Radio - Live AM & FM Radio Stations        : 4,787\n",
      "LUCKY BLOCK MOD ™ for Minecraft PC Edition - The Best Pocket Wiki & Mods Installer Tools: 4,693\n",
      "Deezer - Listen to your Favorite Music & Playlists: 4,677\n",
      "Followers Analysis Tool For Instagram App Free    : 4,253\n",
      "live.ly - live video streaming                    : 4,145\n",
      "Ringtones for iPhone with Ringtone Maker          : 4,013\n",
      "Houseparty - Group Video Chat                     : 3,991\n",
      "Bose SoundTouch                                   : 3,687\n",
      "SOMA Messenger                                    : 3,232\n",
      "Monkey                                            : 3,060\n",
      "Amazon Alexa                                      : 3,018\n",
      "DatPiff                                           : 2,815\n",
      "Trebel Music - Unlimited Music Downloader         : 2,570\n",
      "Down To Lunch                                     : 2,535\n",
      "Free Music Play - Mp3 Streamer & Player           : 2,496\n",
      "Acapella from PicPlayPost                         : 2,487\n",
      "Coach Guitar - Lessons & Easy Tabs For Beginners  : 2,416\n",
      "Musicloud - MP3 and FLAC Music Player for Cloud Platforms.: 2,211\n",
      "Flinch - Video Chat Staring Contest               : 2,134\n",
      "Highrise - Your Avatar Community                  : 2,011\n",
      "LOVOO - Dating Chat                               : 1,985\n",
      "PlayStation®Messages                              : 1,918\n",
      "BOO! - Video chat camera with filters & stickers  : 1,805\n",
      "Qzone                                             : 1,649\n",
      "Piano - Play Keyboard Music Games with Magic Tiles: 1,636\n",
      "Chatous - Chat with new people                    : 1,609\n",
      "Kiwi - Q&A                                        : 1,538\n",
      "GUNS MODS for Minecraft PC Edition - Mods Tools   : 1,497\n",
      "Boom: Best Equalizer & Magical Surround Sound     : 1,375\n",
      "GhostCodes - a discovery app for Snapchat         : 1,313\n",
      "Music Freedom - Unlimited Free MP3 Music Streaming: 1,246\n",
      "Jodel                                             : 1,193\n",
      "AmpMe - A Portable Social Party Music Speaker     : 1,047\n",
      "FireChat                                          : 1,037\n",
      "Google Duo - simple video calling                 : 1,033\n",
      "Medly - Music Maker                               : 933\n",
      "Bose Connect                                      : 915\n",
      "Music Memos                                       : 909\n",
      "Fiesta by Tango - Chat & Meet New People          : 885\n",
      "Google Allo — smart messaging                     : 862\n",
      "Guides for Pokémon GO - Pokemon GO News and Cheats: 826\n",
      "WWDC                                              : 762\n",
      "Peach — share vividly                             : 727\n",
      "Hey! VINA - Where Women Meet New Friends          : 719\n",
      "Horror Maps for Minecraft PE - Download The Scariest Maps for Minecraft Pocket Edition (MCPE) Free: 718\n",
      "Battlefield™ Companion                            : 689\n",
      "All Devices for WhatsApp - Messenger for iPad     : 682\n",
      "UE BOOM                                           : 612\n",
      "LiveMixtapes                                      : 555\n",
      "Chat for Pokemon Go - GoChat                      : 500\n",
      "IAmNaughty – Dating App to Meet New People Online : 463\n",
      "Qzone HD                                          : 458\n",
      "Zenly - Locate your friends in realtime           : 427\n",
      "League of Legends Friends                         : 420\n",
      "豆瓣                                                : 407\n",
      "Candid - Speak Your Mind Freely                   : 398\n",
      "知乎                                                : 397\n",
      "Selfeo                                            : 366\n",
      "NOISE                                             : 355\n",
      "Fake-A-Location Free ™                            : 354\n",
      "MP3 Music Player & Streamer for Clouds            : 329\n",
      "Musical Video Maker - Create Music clips lip sync : 320\n",
      "Cloud Music Player - Downloader & Playlist Manager: 319\n",
      "Remixlive - Remix loops with pads                 : 288\n",
      "Popcorn Buzz - Free Group Calls                   : 281\n",
      "Fam — Group video calling for iMessage            : 279\n",
      "QQ International                                  : 274\n",
      "Ameba                                             : 269\n",
      "SoundCloud Pulse: for creators                    : 240\n",
      "Tantan                                            : 235\n",
      "QQ音乐HD                                            : 224\n",
      "Cougar Dating & Life Style App for Mature Women   : 213\n",
      "Rawr Messenger - Dab your chat                    : 180\n",
      "Blocs Wave - Make & Record Music                  : 158\n",
      "WhenToPost: Best Time to Post Photos for Instagram: 158\n",
      "PlayGround • Music At Your Fingertips             : 150\n",
      "Inke—Broadcast an amazing life                    : 147\n",
      "Music and Chill                                   : 135\n",
      "The Singing Machine Mobile Karaoke App            : 130\n",
      "radio.de - Der Radioplayer                        : 64\n",
      "Mustknow - anonymous video Q&A                    : 53\n",
      "Free Music -  Player & Streamer  for Dropbox, OneDrive & Google Drive: 46\n",
      "CTFxCmoji                                         : 39\n",
      "NRJ Radio                                         : 38\n",
      "Lobi                                              : 36\n",
      "Chain: Collaborate On MyVideo Story/Group Video   : 35\n",
      "Smart Music: Streaming Videos and Radio           : 17\n",
      "VPN Express                                       : 14\n",
      "BOSS Tuner                                        : 13\n",
      "Real Bike Traffic Rider Virtual Reality Glasses   : 8\n",
      "botman - Real time video chat                     : 7\n",
      "教えて!goo                                           : 0\n",
      "BestieBox                                         : 0\n",
      "MATCH ON LINE chat                                : 0\n",
      "niconico ch                                       : 0\n",
      "PetitLyrics                                       : 0\n",
      "Jishokun-Japanese English Dictionary & Translator : 0\n",
      "LINE BLOG                                         : 0\n",
      "bit-tube - Live Stream Video Chat                 : 0\n"
     ]
    }
   ],
   "source": [
    "for app in free_ios:\n",
    "    if app[11] in ['Reference', 'Social Networking', 'Music']:\n",
    "        print(f\"{app[1]:50}: {int(app[5]):,}\")"
   ]
  },
  {
   "cell_type": "markdown",
   "metadata": {},
   "source": [
    "These apps influenced by giants seem to affect our average and our sight of genre popularity. We can redo the average calculation without these extremely popular apps with more than 300,000 ratings."
   ]
  },
  {
   "cell_type": "code",
   "execution_count": 28,
   "metadata": {},
   "outputs": [
    {
     "name": "stdout",
     "output_type": "stream",
     "text": [
      "Social Networking: 24,639.08\n",
      "Photo & Video    : 13,070.78\n",
      "Games            : 13,759.67\n",
      "Music            : 21,828.32\n",
      "Reference        : 21,355.18\n",
      "Health & Fitness : 10,044.92\n",
      "Weather          : 35,859.67\n",
      "Utilities        : 12,925.01\n",
      "Travel           : 17,527.36\n",
      "Shopping         : 22,210.54\n",
      "News             : 13,323.98\n",
      "Navigation       : 34,299.20\n",
      "Lifestyle        : 9,956.10\n",
      "Entertainment    : 12,864.56\n",
      "Food & Drink     : 22,513.04\n",
      "Sports           : 23,008.90\n",
      "Book             : 39,758.50\n",
      "Finance          : 31,467.94\n",
      "Education        : 7,003.98\n",
      "Productivity     : 21,028.41\n",
      "Business         : 7,491.12\n",
      "Catalogs         : 4,004.00\n",
      "Medical          : 612.00\n"
     ]
    }
   ],
   "source": [
    "for genre in unique_genres_ios:\n",
    "    new_total = 0\n",
    "    new_len_genre = 0\n",
    "    for app in free_ios:\n",
    "        app_genre = app[11]\n",
    "        if app_genre == genre:\n",
    "            ratings = float(app[5])\n",
    "            if ratings < 300000:\n",
    "                new_total += ratings\n",
    "                new_len_genre += 1\n",
    "    \n",
    "    new_avg_genre = new_total / new_len_genre\n",
    "    print(f\"{genre :17}: {new_avg_genre:,.2f}\")"
   ]
  },
  {
   "cell_type": "markdown",
   "metadata": {},
   "source": [
    "Now other genres seem popular, like weather, book, and finance. Especially the book genre, since it is the most popular on this new average."
   ]
  },
  {
   "cell_type": "markdown",
   "metadata": {},
   "source": [
    "### On Google Play"
   ]
  },
  {
   "cell_type": "markdown",
   "metadata": {},
   "source": [
    "In the Google Play dataset, we have a column with data about the number of installs. The data in this column are categories, and each one provides a minimum value."
   ]
  },
  {
   "cell_type": "code",
   "execution_count": 29,
   "metadata": {},
   "outputs": [
    {
     "name": "stdout",
     "output_type": "stream",
     "text": [
      "1,000,000+         : 15.726534296028879\n",
      "100,000+           : 11.552346570397113\n",
      "10,000,000+        : 10.548285198555957\n",
      "10,000+            : 10.198555956678701\n",
      "1,000+             : 8.393501805054152\n",
      "100+               : 6.915613718411552\n",
      "5,000,000+         : 6.825361010830325\n",
      "500,000+           : 5.561823104693141\n",
      "50,000+            : 4.7721119133574\n",
      "5,000+             : 4.512635379061372\n",
      "10+                : 3.5424187725631766\n",
      "500+               : 3.2490974729241873\n",
      "50,000,000+        : 2.3014440433213\n",
      "100,000,000+       : 2.1322202166064983\n",
      "50+                : 1.917870036101083\n",
      "5+                 : 0.78971119133574\n",
      "1+                 : 0.5076714801444043\n",
      "500,000,000+       : 0.2707581227436823\n",
      "1,000,000,000+     : 0.22563176895306858\n",
      "0+                 : 0.04512635379061372\n",
      "0                  : 0.01128158844765343\n"
     ]
    }
   ],
   "source": [
    "display_table(free_android, 5)"
   ]
  },
  {
   "cell_type": "markdown",
   "metadata": {},
   "source": [
    "Since we only want to find apps that attract more users, this is not a problem. \n",
    "Before calculating the average as in the App Store dataset, we need to convert those values to a valid number type."
   ]
  },
  {
   "cell_type": "code",
   "execution_count": 30,
   "metadata": {},
   "outputs": [
    {
     "name": "stdout",
     "output_type": "stream",
     "text": [
      "ART_AND_DESIGN      : 1,986,335.09\n",
      "AUTO_AND_VEHICLES   : 647,317.82\n",
      "BEAUTY              : 513,151.89\n",
      "BOOKS_AND_REFERENCE : 8,767,811.89\n",
      "BUSINESS            : 1,712,290.15\n",
      "COMICS              : 817,657.27\n",
      "COMMUNICATION       : 38,456,119.17\n",
      "DATING              : 854,028.83\n",
      "EDUCATION           : 1,833,495.15\n",
      "ENTERTAINMENT       : 11,640,705.88\n",
      "EVENTS              : 253,542.22\n",
      "FINANCE             : 1,387,692.48\n",
      "FOOD_AND_DRINK      : 1,924,897.74\n",
      "HEALTH_AND_FITNESS  : 4,188,821.99\n",
      "HOUSE_AND_HOME      : 1,331,540.56\n",
      "LIBRARIES_AND_DEMO  : 638,503.73\n",
      "LIFESTYLE           : 1,437,816.27\n",
      "GAME                : 15,588,015.60\n",
      "FAMILY              : 3,695,641.82\n",
      "MEDICAL             : 120,550.62\n",
      "SOCIAL              : 23,253,652.13\n",
      "SHOPPING            : 7,036,877.31\n",
      "PHOTOGRAPHY         : 17,840,110.40\n",
      "SPORTS              : 3,638,640.14\n",
      "TRAVEL_AND_LOCAL    : 13,984,077.71\n",
      "TOOLS               : 10,801,391.30\n",
      "PERSONALIZATION     : 5,201,482.61\n",
      "PRODUCTIVITY        : 16,787,331.34\n",
      "PARENTING           : 542,603.62\n",
      "WEATHER             : 5,074,486.20\n",
      "VIDEO_PLAYERS       : 24,727,872.45\n",
      "NEWS_AND_MAGAZINES  : 9,549,178.47\n",
      "MAPS_AND_NAVIGATION : 4,056,941.77\n"
     ]
    }
   ],
   "source": [
    "unique_categories = freq_table(free_android, 1)\n",
    "for category in unique_categories:\n",
    "    total = 0\n",
    "    len_category = 0\n",
    "    for app in free_android:\n",
    "        category_app = app[1]\n",
    "        if category_app == category:\n",
    "            n_installs = app[5]\n",
    "            n_installs = n_installs.replace('+','')\n",
    "            n_installs = n_installs.replace(',','')\n",
    "            total += float(n_installs)\n",
    "            len_category += 1\n",
    "    avg_category = total / len_category\n",
    "    print(f'{category :20}: {avg_category :,.2f}')"
   ]
  },
  {
   "cell_type": "markdown",
   "metadata": {},
   "source": [
    "On average, communication apps have the most installs, and this number is heavily skewed up by a few apps, just like in the App Store dataset. We see the same pattern for the video players category, social apps, photography apps, productivity apps and other.\n",
    "\n",
    "These app genres seem more popular than they really are and dominated by a few giants who are hard to compete."
   ]
  },
  {
   "cell_type": "code",
   "execution_count": 31,
   "metadata": {
    "scrolled": false
   },
   "outputs": [
    {
     "name": "stdout",
     "output_type": "stream",
     "text": [
      "WhatsApp Messenger                                : 1,000,000,000+\n",
      "Messenger for SMS                                 : 10,000,000+\n",
      "My Tele2                                          : 5,000,000+\n",
      "imo beta free calls and text                      : 100,000,000+\n",
      "Contacts                                          : 50,000,000+\n",
      "Call Free – Free Call                             : 5,000,000+\n",
      "Web Browser & Explorer                            : 5,000,000+\n",
      "Browser 4G                                        : 10,000,000+\n",
      "MegaFon Dashboard                                 : 10,000,000+\n",
      "ZenUI Dialer & Contacts                           : 10,000,000+\n",
      "Cricket Visual Voicemail                          : 10,000,000+\n",
      "TracFone My Account                               : 1,000,000+\n",
      "Xperia Link™                                      : 10,000,000+\n",
      "TouchPal Keyboard - Fun Emoji & Android Keyboard  : 10,000,000+\n",
      "Skype Lite - Free Video Call & Chat               : 5,000,000+\n",
      "My magenta                                        : 1,000,000+\n",
      "Android Messages                                  : 100,000,000+\n",
      "Google Duo - High Quality Video Calls             : 500,000,000+\n",
      "Seznam.cz                                         : 1,000,000+\n",
      "Antillean Gold Telegram (original version)        : 100,000+\n",
      "AT&T Visual Voicemail                             : 10,000,000+\n",
      "GMX Mail                                          : 10,000,000+\n",
      "Omlet Chat                                        : 10,000,000+\n",
      "My Vodacom SA                                     : 5,000,000+\n",
      "Microsoft Edge                                    : 5,000,000+\n",
      "Messenger – Text and Video Chat for Free          : 1,000,000,000+\n",
      "imo free video calls and chat                     : 500,000,000+\n",
      "Calls & Text by Mo+                               : 5,000,000+\n",
      "free video calls and chat                         : 50,000,000+\n",
      "Skype - free IM & video calls                     : 1,000,000,000+\n",
      "Who                                               : 100,000,000+\n",
      "GO SMS Pro - Messenger, Free Themes, Emoji        : 100,000,000+\n",
      "Messaging+ SMS, MMS Free                          : 1,000,000+\n",
      "chomp SMS                                         : 10,000,000+\n",
      "Glide - Video Chat Messenger                      : 10,000,000+\n",
      "Text SMS                                          : 10,000,000+\n",
      "Talkray - Free Calls & Texts                      : 10,000,000+\n",
      "LINE: Free Calls & Messages                       : 500,000,000+\n",
      "GroupMe                                           : 10,000,000+\n",
      "mysms SMS Text Messaging Sync                     : 1,000,000+\n",
      "2ndLine - Second Phone Number                     : 1,000,000+\n",
      "Google Chrome: Fast & Secure                      : 1,000,000,000+\n",
      "Firefox Browser fast & private                    : 100,000,000+\n",
      "Ninesky Browser                                   : 1,000,000+\n",
      "Dolphin Browser - Fast, Private & Adblock🐬        : 50,000,000+\n",
      "UC Browser - Fast Download Private & Secure       : 500,000,000+\n",
      "Ghostery Privacy Browser                          : 1,000,000+\n",
      "InBrowser - Incognito Browsing                    : 1,000,000+\n",
      "Lightning Web Browser                             : 500,000+\n",
      "Web Browser                                       : 500,000+\n",
      "Contacts+                                         : 10,000,000+\n",
      "ExDialer - Dialer & Contacts                      : 10,000,000+\n",
      "PHONE for Google Voice & GTalk                    : 1,000,000+\n",
      "Safest Call Blocker                               : 1,000,000+\n",
      "Full Screen Caller ID                             : 5,000,000+\n",
      "Hiya - Caller ID & Block                          : 10,000,000+\n",
      "Mr. Number-Block calls & spam                     : 10,000,000+\n",
      "Should I Answer?                                  : 1,000,000+\n",
      "RocketDial Dialer & Contacts                      : 1,000,000+\n",
      "CIA - Caller ID & Call Blocker                    : 5,000,000+\n",
      "Calls Blacklist - Call Blocker                    : 10,000,000+\n",
      "Call Control - Call Blocker                       : 5,000,000+\n",
      "True Contact - Real Caller ID                     : 1,000,000+\n",
      "Video Caller Id                                   : 1,000,000+\n",
      "Sync.ME – Caller ID & Block                       : 5,000,000+\n",
      "Burner - Free Phone Number                        : 1,000,000+\n",
      "Caller ID +                                       : 1,000,000+\n",
      "Gmail                                             : 1,000,000,000+\n",
      "K-9 Mail                                          : 5,000,000+\n",
      "myMail – Email for Hotmail, Gmail and Outlook Mail: 10,000,000+\n",
      "Email TypeApp - Mail App                          : 1,000,000+\n",
      "All Email Providers                               : 1,000,000+\n",
      "Newton Mail - Email App for Gmail, Outlook, IMAP  : 1,000,000+\n",
      "GO Notifier                                       : 10,000,000+\n",
      "Mail.Ru - Email App                               : 50,000,000+\n",
      "Mail1Click - Secure Mail                          : 10,000+\n",
      "Daum Mail - Next Mail                             : 5,000,000+\n",
      "mail.com mail                                     : 1,000,000+\n",
      "SolMail - All-in-One email app                    : 500,000+\n",
      "Hangouts                                          : 1,000,000,000+\n",
      "Vonage Mobile® Call Video Text                    : 1,000,000+\n",
      "JusTalk - Free Video Calls and Fun Video Chat     : 5,000,000+\n",
      "Azar                                              : 50,000,000+\n",
      "LokLok: Draw on a Lock Screen                     : 500,000+\n",
      "Discord - Chat for Gamers                         : 10,000,000+\n",
      "Messenger Lite: Free Calls & Messages             : 100,000,000+\n",
      "AntennaPict β                                     : 1,000,000+\n",
      "Talkatone: Free Texts, Calls & Phone Number       : 10,000,000+\n",
      "Kik                                               : 100,000,000+\n",
      "K-@ Mail - Email App                              : 100,000+\n",
      "KakaoTalk: Free Calls & Text                      : 100,000,000+\n",
      "K-9 Material (unofficial)                         : 5,000+\n",
      "M star Dialer                                     : 100,000+\n",
      "Free WiFi Connect                                 : 10,000,000+\n",
      "m:go BiH                                          : 10,000+\n",
      "N-Com Wizard                                      : 50,000+\n",
      "Opera Mini - fast web browser                     : 100,000,000+\n",
      "Opera Browser: Fast and Secure                    : 100,000,000+\n",
      "Opera Mini browser beta                           : 10,000,000+\n",
      "Psiphon Pro - The Internet Freedom VPN            : 10,000,000+\n",
      "ICQ — Video Calls & Chat Messenger                : 10,000,000+\n",
      "Telegram                                          : 100,000,000+\n",
      "AT&T Messages for Tablet                          : 1,000,000+\n",
      "T-Mobile DIGITS                                   : 100,000+\n",
      "Truecaller: Caller ID, SMS spam blocking & Dialer : 100,000,000+\n",
      "Portable Wi-Fi hotspot                            : 10,000,000+\n",
      "AT&T Call Protect                                 : 5,000,000+\n",
      "U - Webinars, Meetings & Messenger                : 500,000+\n",
      "UC Browser Mini -Tiny Fast Private & Secure       : 100,000,000+\n",
      "/u/app                                            : 10,000+\n",
      "[verify-U] VideoIdent                             : 10,000+\n",
      "Viber Messenger                                   : 500,000,000+\n",
      "WeChat                                            : 100,000,000+\n",
      "WhatsApp Business                                 : 10,000,000+\n",
      "WhatsCall Free Global Phone Call App & Cheap Calls: 10,000,000+\n",
      "X Browser                                         : 50,000+\n",
      "Yahoo Mail – Stay Organized                       : 100,000,000+\n",
      "Free Adblocker Browser - Adblock & Popup Blocker  : 10,000,000+\n",
      "Adblock Browser for Android                       : 10,000,000+\n",
      "CM Browser - Ad Blocker , Fast Download , Privacy : 50,000,000+\n",
      "Adblock Plus for Samsung Internet - Browse safe.  : 1,000,000+\n",
      "Ad Blocker Turbo - Adblocker Browser              : 10,000+\n",
      "Brave Browser: Fast AdBlocker                     : 5,000,000+\n",
      "AG Contacts, Lite edition                         : 5,000+\n",
      "Oklahoma Ag Co-op Council                         : 10+\n",
      "Bee'ah Employee App                               : 100+\n",
      "tournaments and more.aj.2                         : 100+\n",
      "Aj.Petra                                          : 100+\n",
      "AK Phone                                          : 5,000+\n",
      "PlacarTv Futebol Ao Vivo                          : 100,000+\n",
      "WiFi Access Point (hotspot)                       : 100,000+\n",
      "Access Point Names                                : 10,000+\n",
      "Puffin Web Browser                                : 10,000,000+\n",
      "ClanHQ                                            : 10,000+\n",
      "Ear Agent: Super Hearing                          : 5,000,000+\n",
      "Google Voice                                      : 10,000,000+\n",
      "Google Allo                                       : 10,000,000+\n",
      "AU Call Blocker - Block Unwanted Calls Texts 2018 : 1,000+\n",
      "Baby Monitor AV                                   : 100,000+\n",
      "AV Phone                                          : 1,000+\n",
      "AW - free video calls and chat                    : 1,000,000+\n",
      "Katalogen.ax                                      : 100+\n",
      "AZ Browser. Private & Download                    : 100,000+\n",
      "BA SALES                                          : 1+\n",
      "BD Data Plan (3G & 4G)                            : 500,000+\n",
      "BD Internet Packages (Updated)                    : 50,000+\n",
      "BD Dialer                                         : 10,000+\n",
      "BD Live Call                                      : 5,000+\n",
      "Best Browser BD social networking                 : 10+\n",
      "Traffic signs BD                                  : 500+\n",
      "BF Browser by Betfilter - Stop Gambling Today!    : 10,000+\n",
      "My BF App                                         : 50,000+\n",
      "BH Mail                                           : 1,000+\n",
      "Zalo – Video Call                                 : 50,000,000+\n",
      "BJ - Confidential                                 : 10+\n",
      "BK Chat                                           : 1,000+\n",
      "Of the wall Arapaho bk                            : 5+\n",
      "AC-BL                                             : 50+\n",
      "BBM - Free Calls & Messages                       : 100,000,000+\n",
      "DMR BrandMeister Tool                             : 10,000+\n",
      "BBMoji - Your personalized BBM Stickers           : 1,000,000+\n",
      "BN MALLORCA Radio                                 : 1,000+\n",
      "BQ Partners                                       : 1,000+\n",
      "BS-Mobile                                         : 50+\n",
      "ATC Unico BS                                      : 500+\n",
      "BT One Voice mobile access                        : 5,000+\n",
      "BT Messenger                                      : 50,000+\n",
      "BT One Phone Mobile App                           : 10,000+\n",
      "SW-100.tch by Callstel                            : 1,000,000+\n",
      "BT MeetMe with Dolby Voice                        : 100,000+\n",
      "Bluetooth Auto Connect                            : 5,000,000+\n",
      "AudioBT: BT audio GPS/SMS/Text                    : 50,000+\n",
      "BV                                                : 100+\n",
      "Feel Performer                                    : 10,000+\n",
      "Tiny Call Confirm                                 : 1,000,000+\n",
      "CB Radio Chat - for friends!                      : 1,000,000+\n",
      "CB On Mobile                                      : 100,000+\n",
      "Virtual Walkie Talkie                             : 1,000,000+\n",
      "Channel 19                                        : 100,000+\n",
      "Cb browser                                        : 50+\n",
      "CF Chat: Connecting Friends                       : 100+\n",
      "retteMi.ch                                        : 5,000+\n",
      "Chrome Dev                                        : 5,000,000+\n",
      "CJ Browser - Fast & Private                       : 100+\n",
      "CJ DVD Rentals                                    : 100+\n",
      "CK Call NEW                                       : 10+\n",
      "CM Transfer - Share any files with friends nearby : 5,000,000+\n",
      "mail.co.uk Mail                                   : 5,000+\n",
      "ClanPlay: Community and Tools for Gamers          : 1,000,000+\n",
      "CQ-Mobile                                         : 1,000+\n",
      "CQ-Alert                                          : 500+\n",
      "QRZ Assistant                                     : 100,000+\n",
      "Pocket Prefix Plus                                : 10,000+\n",
      "Ham Radio Prefixes                                : 10,000+\n",
      "CS Customizer                                     : 1,000+\n",
      "CS Browser | #1 & BEST BROWSER                    : 1,000+\n",
      "CS Browser Beta                                   : 5,000+\n",
      "My Vodafone (GR)                                  : 1,000,000+\n",
      "IZ2UUF Morse Koch CW                              : 50,000+\n",
      "C W Browser                                       : 100+\n",
      "CW Bluetooth SPP                                  : 100+\n",
      "CW BLE Peripheral Simulator                       : 500+\n",
      "Morse Code Reader                                 : 100,000+\n",
      "Learn Morse Code - G0HYN Learn Morse              : 5,000+\n",
      "Ring                                              : 10,000+\n",
      "Hyundai CX Conference                             : 50+\n",
      "Cy Messenger                                      : 100+\n",
      "Amadeus GR & CY                                   : 100+\n",
      "Hlášenírozhlasu.cz                                : 10+\n",
      "SMS Sender - sluzba.cz                            : 1,000+\n",
      "WEB.DE Mail                                       : 10,000,000+\n",
      "Your Freedom VPN Client                           : 5,000,000+\n",
      "CallApp: Caller ID, Blocker & Phone Call Recorder : 10,000,000+\n",
      "Rádio Sol Nascente DF                             : 500+\n",
      "DG Card                                           : 100+\n",
      "Whoscall - Caller ID & Block                      : 10,000,000+\n",
      "DK Browser                                        : 10+\n",
      "cluster.dk                                        : 1,000+\n",
      "DK TEL Dialer                                     : 50+\n",
      "DM for WhatsApp                                   : 5,000+\n",
      "DM Talk New                                       : 5,000+\n",
      "DM - The Offical Messaging App                    : 10+\n",
      "DM Tracker                                        : 1,000+\n",
      "Call Blocker & Blacklist                          : 1,000+\n",
      "ReadyOp DT                                        : 1,000+\n",
      "DU Browser—Browse fast & fun                      : 10,000,000+\n",
      "Caller ID & Call Block - DU Caller                : 5,000,000+\n",
      "BlueDV AMBE                                       : 1,000+\n",
      "DW Contacts & Phone & Dialer                      : 1,000,000+\n",
      "Deaf World DW                                     : 10,000+\n",
      "Ham DX Cluster & Spots Finder                     : 5,000+\n",
      "Mircules DX Cluster Lite                          : 5,000+\n",
      "3G DZ Configuration                               : 50,000+\n",
      "chat dz                                           : 100+\n",
      "love sms good morning                             : 5,000+\n",
      "Goodbox - Mega App                                : 100,000+\n",
      "Call Blocker - Blacklist, SMS Blocker             : 1,000,000+\n",
      "[EF]ShoutBox                                      : 100+\n",
      "Eg Call                                           : 10,000+\n",
      "ei                                                : 10+\n",
      "EJ messenger                                      : 10+\n",
      "Ek IRA                                            : 10+\n",
      "Orfox: Tor Browser for Android                    : 10,000,000+\n",
      "EO Mumbai                                         : 10+\n",
      "EP RSS Reader                                     : 100+\n",
      "Voxer Walkie Talkie Messenger                     : 10,000,000+\n",
      "ES-1                                              : 500+\n",
      "Hangouts Dialer - Call Phones                     : 10,000,000+\n",
      "EU Council                                        : 1,000+\n",
      "Council Voting Calculator                         : 5,000+\n",
      "Have your say on Europe                           : 500+\n",
      "Programi podrške EU                               : 100+\n",
      "Inbox.eu                                          : 10,000+\n",
      "Web Browser for Android                           : 1,000,000+\n",
      "Everbridge                                        : 100,000+\n",
      "Best Auto Call Recorder Free                      : 500+\n",
      "EZ Wifi Notification                              : 10,000+\n",
      "Test Server SMS FA                                : 5+\n",
      "Lite for Facebook Messenger                       : 1,000,000+\n",
      "FC Browser - Focus Privacy Browser                : 1,000+\n",
      "EHiN-FH conferenceapp                             : 100+\n",
      "Carpooling FH Hagenberg                           : 100+\n",
      "Wi-Fi Auto-connect                                : 1,000,000+\n",
      "Talkie - Wi-Fi Calling, Chats, File Sharing       : 500,000+\n",
      "WeFi - Free Fast WiFi Connect & Find Wi-Fi Map    : 1,000,000+\n",
      "Sat-Fi                                            : 5,000+\n",
      "Portable Wi-Fi hotspot Free                       : 100,000+\n",
      "TownWiFi | Wi-Fi Everywhere                       : 500,000+\n",
      "Jazz Wi-Fi                                        : 10,000+\n",
      "Sat-Fi Voice                                      : 1,000+\n",
      "Free Wi-fi HotspoT                                : 50,000+\n",
      "FN Web Radio                                      : 10+\n",
      "FNH Payment Info                                  : 10+\n",
      "MARKET FO                                         : 100+\n",
      "FO OP St-Nazaire                                  : 100+\n",
      "FO SODEXO                                         : 100+\n",
      "FO RCBT                                           : 100+\n",
      "FO Interim                                        : 100+\n",
      "FO PSA Sept-Fons                                  : 100+\n",
      "FO AIRBUS TLSE                                    : 1,000+\n",
      "FO STELIA Méaulte                                 : 100+\n",
      "FO AIRBUS Nantes                                  : 100+\n",
      "Firefox Focus: The privacy browser                : 1,000,000+\n",
      "FP Connect                                        : 100+\n",
      "FreedomPop Messaging Phone/SIM                    : 500,000+\n",
      "FP Live                                           : 10+\n",
      "HipChat - beta version                            : 50,000+\n"
     ]
    }
   ],
   "source": [
    "for app in free_android:\n",
    "    if app[1] == 'COMMUNICATION':\n",
    "         print(f\"{app[0]:50}: {app[5]}\")"
   ]
  },
  {
   "cell_type": "markdown",
   "metadata": {},
   "source": [
    "The books and reference genre is not the most popular, but it still looks popular. The same happens with the weather genre, and it's interesting because we also found these genres on the App Store."
   ]
  },
  {
   "cell_type": "markdown",
   "metadata": {},
   "source": [
    "## Conclusion"
   ]
  },
  {
   "cell_type": "markdown",
   "metadata": {},
   "source": [
    "In this project, we analyzed data from the App Store and Google Play mobile apps with the goal of finding what type of apps attract more users and recommending an app profile that show potential in the market.\n",
    "\n",
    "We concluded that an app about books could be profitable for both the Google Play and the App Store markets. "
   ]
  }
 ],
 "metadata": {
  "kernelspec": {
   "display_name": "Python 3",
   "language": "python",
   "name": "python3"
  },
  "language_info": {
   "codemirror_mode": {
    "name": "ipython",
    "version": 3
   },
   "file_extension": ".py",
   "mimetype": "text/x-python",
   "name": "python",
   "nbconvert_exporter": "python",
   "pygments_lexer": "ipython3",
   "version": "3.8.2"
  }
 },
 "nbformat": 4,
 "nbformat_minor": 2
}
